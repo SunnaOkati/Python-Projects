{
 "cells": [
  {
   "cell_type": "code",
   "execution_count": 1,
   "metadata": {},
   "outputs": [],
   "source": [
    "import numpy as np\n",
    "import pandas as pd\n",
    "import math\n",
    "from sklearn.feature_extraction.text import CountVectorizer\n",
    "from sklearn.linear_model import LogisticRegression\n",
    "from sklearn.metrics import accuracy_score"
   ]
  },
  {
   "cell_type": "code",
   "execution_count": 2,
   "metadata": {},
   "outputs": [],
   "source": [
    "# read the data\n",
    "df = pd.read_csv(\"data/labelled_movie_reviews.csv\")\n",
    "\n",
    "# shuffle the rows\n",
    "# NOTE: we will only use a fraction of the dataset for this lab\n",
    "# so that you don't have to wait so long for the model to train\n",
    "df = df.sample(frac=0.3, random_state=123).reset_index(drop=True)"
   ]
  },
  {
   "cell_type": "code",
   "execution_count": 3,
   "metadata": {},
   "outputs": [],
   "source": [
    "# convert pandas to lists\n",
    "Xr = df[\"text\"].tolist()\n",
    "Yr = df[\"label\"].tolist()\n",
    "\n",
    "# compute the train, val, test splits\n",
    "train_frac, val_frac, test_frac = 0.7, 0.1, 0.2\n",
    "train_end = int(train_frac*len(Xr))\n",
    "val_end = int((train_frac + val_frac)*len(Xr))\n",
    "\n",
    "# store the train val test splits\n",
    "X_train = Xr[0:train_end]\n",
    "Y_train = Yr[0:train_end]\n",
    "X_val = Xr[train_end:val_end]\n",
    "Y_val = Yr[train_end:val_end]\n",
    "X_test = Xr[val_end:]\n",
    "Y_test = Yr[val_end:]"
   ]
  },
  {
   "cell_type": "code",
   "execution_count": 4,
   "metadata": {},
   "outputs": [],
   "source": [
    "def document_to_vector(X):\n",
    "    # CountVectorizer is used to convert the text into sparse tf vectors\n",
    "    # https://scikit-learn.org/stable/modules/generated/sklearn.feature_extraction.text.CountVectorizer.html\n",
    "    count_vect = CountVectorizer()\n",
    "    X_tf = count_vect.fit_transform(X)\n",
    "    return X_tf.toarray(), count_vect"
   ]
  },
  {
   "cell_type": "code",
   "execution_count": 5,
   "metadata": {},
   "outputs": [],
   "source": [
    "# fit a linear model\n",
    "# Xtr - A list of training documents provided as text\n",
    "# Ytr - A list of training class labels\n",
    "# C - the regularization parameter\n",
    "def fit_model(Xtr, Ytr, C):\n",
    "    #TODO: write model fitting code using CountVectorizer and LogisticRegression\n",
    "   \n",
    "    X_tf, count_vec = document_to_vector(Xtr)\n",
    "    \n",
    "    # LogisticRegression will train the classifier using these vectors\n",
    "    # https://scikit-learn.org/stable/modules/generated/sklearn.linear_model.LogisticRegression.html\n",
    "    log_reg = LogisticRegression(C=C)\n",
    "    model = log_reg.fit(X_tf, Ytr)\n",
    "\n",
    "    # return the model and CountVectorizer\n",
    "    # Note: we need to return the CountVectorizer because \n",
    "    # it stores a mapping from words -> ids which we need for testing\n",
    "    return model, count_vec"
   ]
  },
  {
   "cell_type": "code",
   "execution_count": 6,
   "metadata": {},
   "outputs": [],
   "source": [
    "# test a fitted linear model\n",
    "# Xtst - A list of test or validation documents\n",
    "# Ytst - A list of test or validation class labels\n",
    "def test_model(Xtst, Ytst, model, count_vec):\n",
    "    # TODO: write code to test a fitted linear model and return accuracy\n",
    "    # Hint: the function accuracy_score from sklearn may be helpful\n",
    "    # https://scikit-learn.org/stable/modules/generated/sklearn.metrics.accuracy_score.html \n",
    "    X_tf = count_vec.transform(Xtst)\n",
    "    score = model.score(X_tf, Ytst)\n",
    "    return score"
   ]
  },
  {
   "cell_type": "code",
   "execution_count": 7,
   "metadata": {},
   "outputs": [
    {
     "name": "stderr",
     "output_type": "stream",
     "text": [
      "A:\\Anaconda3\\envs\\tensorflow\\lib\\site-packages\\sklearn\\linear_model\\logistic.py:433: FutureWarning: Default solver will be changed to 'lbfgs' in 0.22. Specify a solver to silence this warning.\n",
      "  FutureWarning)\n"
     ]
    },
    {
     "name": "stdout",
     "output_type": "stream",
     "text": [
      "K: -5 Score: 0.8692461641094062\n"
     ]
    },
    {
     "name": "stderr",
     "output_type": "stream",
     "text": [
      "A:\\Anaconda3\\envs\\tensorflow\\lib\\site-packages\\sklearn\\linear_model\\logistic.py:433: FutureWarning: Default solver will be changed to 'lbfgs' in 0.22. Specify a solver to silence this warning.\n",
      "  FutureWarning)\n"
     ]
    },
    {
     "name": "stdout",
     "output_type": "stream",
     "text": [
      "K: -4 Score: 0.8812541694462975\n"
     ]
    },
    {
     "name": "stderr",
     "output_type": "stream",
     "text": [
      "A:\\Anaconda3\\envs\\tensorflow\\lib\\site-packages\\sklearn\\linear_model\\logistic.py:433: FutureWarning: Default solver will be changed to 'lbfgs' in 0.22. Specify a solver to silence this warning.\n",
      "  FutureWarning)\n"
     ]
    },
    {
     "name": "stdout",
     "output_type": "stream",
     "text": [
      "K: -3 Score: 0.885256837891928\n"
     ]
    },
    {
     "name": "stderr",
     "output_type": "stream",
     "text": [
      "A:\\Anaconda3\\envs\\tensorflow\\lib\\site-packages\\sklearn\\linear_model\\logistic.py:433: FutureWarning: Default solver will be changed to 'lbfgs' in 0.22. Specify a solver to silence this warning.\n",
      "  FutureWarning)\n"
     ]
    },
    {
     "name": "stdout",
     "output_type": "stream",
     "text": [
      "K: -2 Score: 0.8865910607071381\n"
     ]
    },
    {
     "name": "stderr",
     "output_type": "stream",
     "text": [
      "A:\\Anaconda3\\envs\\tensorflow\\lib\\site-packages\\sklearn\\linear_model\\logistic.py:433: FutureWarning: Default solver will be changed to 'lbfgs' in 0.22. Specify a solver to silence this warning.\n",
      "  FutureWarning)\n"
     ]
    },
    {
     "name": "stdout",
     "output_type": "stream",
     "text": [
      "K: -1 Score: 0.8832555036691128\n"
     ]
    },
    {
     "name": "stderr",
     "output_type": "stream",
     "text": [
      "A:\\Anaconda3\\envs\\tensorflow\\lib\\site-packages\\sklearn\\linear_model\\logistic.py:433: FutureWarning: Default solver will be changed to 'lbfgs' in 0.22. Specify a solver to silence this warning.\n",
      "  FutureWarning)\n"
     ]
    },
    {
     "name": "stdout",
     "output_type": "stream",
     "text": [
      "K: 0 Score: 0.875917278185457\n"
     ]
    },
    {
     "name": "stderr",
     "output_type": "stream",
     "text": [
      "A:\\Anaconda3\\envs\\tensorflow\\lib\\site-packages\\sklearn\\linear_model\\logistic.py:433: FutureWarning: Default solver will be changed to 'lbfgs' in 0.22. Specify a solver to silence this warning.\n",
      "  FutureWarning)\n"
     ]
    },
    {
     "name": "stdout",
     "output_type": "stream",
     "text": [
      "K: 1 Score: 0.8745830553702468\n"
     ]
    },
    {
     "name": "stderr",
     "output_type": "stream",
     "text": [
      "A:\\Anaconda3\\envs\\tensorflow\\lib\\site-packages\\sklearn\\linear_model\\logistic.py:433: FutureWarning: Default solver will be changed to 'lbfgs' in 0.22. Specify a solver to silence this warning.\n",
      "  FutureWarning)\n"
     ]
    },
    {
     "name": "stdout",
     "output_type": "stream",
     "text": [
      "K: 2 Score: 0.875250166777852\n"
     ]
    },
    {
     "name": "stderr",
     "output_type": "stream",
     "text": [
      "A:\\Anaconda3\\envs\\tensorflow\\lib\\site-packages\\sklearn\\linear_model\\logistic.py:433: FutureWarning: Default solver will be changed to 'lbfgs' in 0.22. Specify a solver to silence this warning.\n",
      "  FutureWarning)\n"
     ]
    },
    {
     "name": "stdout",
     "output_type": "stream",
     "text": [
      "K: 3 Score: 0.8699132755170114\n"
     ]
    },
    {
     "name": "stderr",
     "output_type": "stream",
     "text": [
      "A:\\Anaconda3\\envs\\tensorflow\\lib\\site-packages\\sklearn\\linear_model\\logistic.py:433: FutureWarning: Default solver will be changed to 'lbfgs' in 0.22. Specify a solver to silence this warning.\n",
      "  FutureWarning)\n"
     ]
    },
    {
     "name": "stdout",
     "output_type": "stream",
     "text": [
      "K: 4 Score: 0.8692461641094062\n"
     ]
    },
    {
     "name": "stderr",
     "output_type": "stream",
     "text": [
      "A:\\Anaconda3\\envs\\tensorflow\\lib\\site-packages\\sklearn\\linear_model\\logistic.py:433: FutureWarning: Default solver will be changed to 'lbfgs' in 0.22. Specify a solver to silence this warning.\n",
      "  FutureWarning)\n"
     ]
    },
    {
     "name": "stdout",
     "output_type": "stream",
     "text": [
      "K: 5 Score: 0.8692461641094062\n"
     ]
    }
   ],
   "source": [
    "# TODO: search for the best C parameter by \n",
    "# training on the training set and testing on the validation set\n",
    "# you should use fit_model and test_model\n",
    "K = [-5, -4, -3, -2, -1, 0 , 1, 2, 3, 4, 5]\n",
    "for k in K:\n",
    "    C = math.pow(3, k)\n",
    "    model, count_vec = fit_model(X_train, Y_train, C)\n",
    "    score = test_model(X_val, Y_val, model, count_vec)\n",
    "    print(\"K: \" + str(k) + \" Score: \" + str(score))"
   ]
  },
  {
   "cell_type": "code",
   "execution_count": 8,
   "metadata": {},
   "outputs": [
    {
     "name": "stderr",
     "output_type": "stream",
     "text": [
      "A:\\Anaconda3\\envs\\tensorflow\\lib\\site-packages\\sklearn\\linear_model\\logistic.py:433: FutureWarning: Default solver will be changed to 'lbfgs' in 0.22. Specify a solver to silence this warning.\n",
      "  FutureWarning)\n"
     ]
    },
    {
     "name": "stdout",
     "output_type": "stream",
     "text": [
      "K: -2 Score: 0.8903333333333333\n"
     ]
    }
   ],
   "source": [
    "# TODO: fit the model to the concatenated training and validation set\n",
    "# you should use the best C parameter \n",
    "# test on the test set and print the result\n",
    "\n",
    "# compute the train, val, test splits\n",
    "tr_frac = 0.8\n",
    "tr_end = int(tr_frac*len(Xr))\n",
    "\n",
    "\n",
    "# store the train test splits\n",
    "X_tr = Xr[0:tr_end]\n",
    "Y_tr = Yr[0:tr_end]\n",
    "X_ts = Xr[tr_end:]\n",
    "Y_ts = Yr[tr_end:]\n",
    "\n",
    "C = math.pow(3, -2)\n",
    "model, count_vec = fit_model(X_tr, Y_tr, C)\n",
    "score = test_model(X_ts, Y_ts, model, count_vec)\n",
    "print(\"K: \" + str(-2) + \" Score: \" + str(score))"
   ]
  },
  {
   "cell_type": "code",
   "execution_count": 34,
   "metadata": {},
   "outputs": [
    {
     "name": "stdout",
     "output_type": "stream",
     "text": [
      "Top 5 positive words: \n",
      "excellent\n",
      "perfect\n",
      "loved\n",
      "amazing\n",
      "great\n",
      "Top 5 negative words: \n",
      "worst\n",
      "waste\n",
      "awful\n",
      "boring\n",
      "terrible\n"
     ]
    }
   ],
   "source": [
    "# TODO: find the words corresponding to the 5 largest and 5 smallest co-efficients of the linear model\n",
    "# Hint: a fitted LogisticRegression model in sklearn has a coef_ attribute which stores the co-efficients\n",
    "# Hint2: CountVectorizer has a vocabulary_ attribute that stores a \n",
    "#X_tf = count_vec.transform(X_tr)\n",
    "\n",
    "n=5\n",
    "indices = (-model.coef_[0]).argsort()[:n]\n",
    "print(\"Top 5 positive words: \")\n",
    "for idx in indices:\n",
    "    print(list(count_vec.vocabulary_.keys())[list(count_vec.vocabulary_.values()).index(idx)])\n",
    "    \n",
    "n= 5\n",
    "indices = (model.coef_[0]).argsort()[:n]\n",
    "print(\"Top 5 negative words: \")\n",
    "for idx in indices:\n",
    "    print(list(count_vec.vocabulary_.keys())[list(count_vec.vocabulary_.values()).index(idx)])"
   ]
  },
  {
   "cell_type": "code",
   "execution_count": null,
   "metadata": {},
   "outputs": [],
   "source": []
  }
 ],
 "metadata": {
  "kernelspec": {
   "display_name": "Python 3",
   "language": "python",
   "name": "python3"
  },
  "language_info": {
   "codemirror_mode": {
    "name": "ipython",
    "version": 3
   },
   "file_extension": ".py",
   "mimetype": "text/x-python",
   "name": "python",
   "nbconvert_exporter": "python",
   "pygments_lexer": "ipython3",
   "version": "3.6.6"
  }
 },
 "nbformat": 4,
 "nbformat_minor": 2
}
